{
 "cells": [
  {
   "cell_type": "markdown",
   "metadata": {},
   "source": [
    "<p style=\"text-align:center\">\n",
    "    <a href=\"https://skills.network\" target=\"_blank\">\n",
    "    <img src=\"https://cf-courses-data.s3.us.cloud-object-storage.appdomain.cloud/assets/logos/SN_web_lightmode.png\" width=\"200\" alt=\"Skills Network Logo\">\n",
    "    </a>\n",
    "</p>\n",
    "\n",
    "<h1 align=center><font size = 5>Assignment: SQL Notebook for Peer Assignment</font></h1>\n",
    "\n",
    "Estimated time needed: **60** minutes.\n",
    "\n",
    "## Introduction\n",
    "Using this Python notebook you will:\n",
    "\n",
    "1.  Understand the Spacex DataSet\n",
    "2.  Load the dataset  into the corresponding table in a Db2 database\n",
    "3.  Execute SQL queries to answer assignment questions \n"
   ]
  },
  {
   "cell_type": "markdown",
   "metadata": {},
   "source": [
    "## Overview of the DataSet\n",
    "\n",
    "SpaceX has gained worldwide attention for a series of historic milestones. \n",
    "\n",
    "It is the only private company ever to return a spacecraft from low-earth orbit, which it first accomplished in December 2010.\n",
    "SpaceX advertises Falcon 9 rocket launches on its website with a cost of 62 million dollars wheras other providers cost upward of 165 million dollars each, much of the savings is because Space X can reuse the first stage. \n",
    "\n",
    "\n",
    "Therefore if we can determine if the first stage will land, we can determine the cost of a launch. \n",
    "\n",
    "This information can be used if an alternate company wants to bid against SpaceX for a rocket launch.\n",
    "\n",
    "This dataset includes a record for each payload carried during a SpaceX mission into outer space.\n"
   ]
  },
  {
   "cell_type": "markdown",
   "metadata": {},
   "source": [
    "### Download the datasets\n",
    "\n",
    "This assignment requires you to load the spacex dataset.\n",
    "\n",
    "In many cases the dataset to be analyzed is available as a .CSV (comma separated values) file, perhaps on the internet. Click on the link below to download and save the dataset (.CSV file):\n",
    "\n",
    " <a href=\"https://cf-courses-data.s3.us.cloud-object-storage.appdomain.cloud/IBM-DS0321EN-SkillsNetwork/labs/module_2/data/Spacex.csv\" target=\"_blank\">Spacex DataSet</a>\n",
    "\n"
   ]
  },
  {
   "cell_type": "code",
   "execution_count": 1,
   "metadata": {},
   "outputs": [
    {
     "name": "stdout",
     "output_type": "stream",
     "text": [
      "Collecting sqlalchemy==1.3.9\n",
      "  Downloading SQLAlchemy-1.3.9.tar.gz (6.0 MB)\n",
      "     ---------------------------------------- 0.0/6.0 MB ? eta -:--:--\n",
      "     ---------------------------------------- 0.0/6.0 MB ? eta -:--:--\n",
      "     ---------------------------------------- 0.0/6.0 MB ? eta -:--:--\n",
      "     ---------------------------------------- 0.0/6.0 MB ? eta -:--:--\n",
      "     ---------------------------------------- 0.0/6.0 MB 187.9 kB/s eta 0:00:32\n",
      "     ---------------------------------------- 0.0/6.0 MB 196.9 kB/s eta 0:00:31\n",
      "     ---------------------------------------- 0.1/6.0 MB 273.8 kB/s eta 0:00:22\n",
      "      --------------------------------------- 0.1/6.0 MB 386.4 kB/s eta 0:00:16\n",
      "      --------------------------------------- 0.1/6.0 MB 426.7 kB/s eta 0:00:14\n",
      "     - -------------------------------------- 0.2/6.0 MB 456.4 kB/s eta 0:00:13\n",
      "     - -------------------------------------- 0.2/6.0 MB 510.8 kB/s eta 0:00:12\n",
      "     - -------------------------------------- 0.3/6.0 MB 525.1 kB/s eta 0:00:11\n",
      "     - -------------------------------------- 0.3/6.0 MB 536.9 kB/s eta 0:00:11\n",
      "     -- ------------------------------------- 0.3/6.0 MB 581.4 kB/s eta 0:00:10\n",
      "     -- ------------------------------------- 0.4/6.0 MB 587.1 kB/s eta 0:00:10\n",
      "     -- ------------------------------------- 0.4/6.0 MB 592.0 kB/s eta 0:00:10\n",
      "     -- ------------------------------------- 0.4/6.0 MB 596.2 kB/s eta 0:00:10\n",
      "     --- ------------------------------------ 0.5/6.0 MB 599.9 kB/s eta 0:00:10\n",
      "     --- ------------------------------------ 0.5/6.0 MB 617.5 kB/s eta 0:00:09\n",
      "     --- ------------------------------------ 0.5/6.0 MB 619.5 kB/s eta 0:00:09\n",
      "     --- ------------------------------------ 0.6/6.0 MB 632.8 kB/s eta 0:00:09\n",
      "     --- ------------------------------------ 0.6/6.0 MB 622.9 kB/s eta 0:00:09\n",
      "     ---- ----------------------------------- 0.6/6.0 MB 624.4 kB/s eta 0:00:09\n",
      "     ---- ----------------------------------- 0.7/6.0 MB 635.7 kB/s eta 0:00:09\n",
      "     ---- ----------------------------------- 0.7/6.0 MB 646.0 kB/s eta 0:00:09\n",
      "     ---- ----------------------------------- 0.7/6.0 MB 646.3 kB/s eta 0:00:09\n",
      "     ----- ---------------------------------- 0.8/6.0 MB 646.6 kB/s eta 0:00:09\n",
      "     ----- ---------------------------------- 0.8/6.0 MB 646.9 kB/s eta 0:00:09\n",
      "     ----- ---------------------------------- 0.8/6.0 MB 655.4 kB/s eta 0:00:08\n",
      "     ----- ---------------------------------- 0.9/6.0 MB 655.8 kB/s eta 0:00:08\n",
      "     ----- ---------------------------------- 0.9/6.0 MB 655.7 kB/s eta 0:00:08\n",
      "     ------ --------------------------------- 0.9/6.0 MB 655.7 kB/s eta 0:00:08\n",
      "     ------ --------------------------------- 1.0/6.0 MB 663.0 kB/s eta 0:00:08\n",
      "     ------ --------------------------------- 1.0/6.0 MB 662.4 kB/s eta 0:00:08\n",
      "     ------ --------------------------------- 1.0/6.0 MB 669.1 kB/s eta 0:00:08\n",
      "     ------- -------------------------------- 1.1/6.0 MB 668.7 kB/s eta 0:00:08\n",
      "     ------- -------------------------------- 1.1/6.0 MB 668.2 kB/s eta 0:00:08\n",
      "     ------- -------------------------------- 1.1/6.0 MB 667.8 kB/s eta 0:00:08\n",
      "     ------- -------------------------------- 1.2/6.0 MB 673.4 kB/s eta 0:00:08\n",
      "     ------- -------------------------------- 1.2/6.0 MB 672.9 kB/s eta 0:00:08\n",
      "     -------- ------------------------------- 1.2/6.0 MB 673.0 kB/s eta 0:00:08\n",
      "     -------- ------------------------------- 1.2/6.0 MB 678.1 kB/s eta 0:00:07\n",
      "     -------- ------------------------------- 1.3/6.0 MB 677.2 kB/s eta 0:00:07\n",
      "     -------- ------------------------------- 1.3/6.0 MB 682.3 kB/s eta 0:00:07\n",
      "     --------- ------------------------------ 1.4/6.0 MB 681.6 kB/s eta 0:00:07\n",
      "     --------- ------------------------------ 1.4/6.0 MB 681.0 kB/s eta 0:00:07\n",
      "     --------- ------------------------------ 1.4/6.0 MB 680.3 kB/s eta 0:00:07\n",
      "     --------- ------------------------------ 1.4/6.0 MB 679.8 kB/s eta 0:00:07\n",
      "     --------- ------------------------------ 1.5/6.0 MB 683.9 kB/s eta 0:00:07\n",
      "     ---------- ----------------------------- 1.5/6.0 MB 688.3 kB/s eta 0:00:07\n",
      "     ---------- ----------------------------- 1.5/6.0 MB 687.6 kB/s eta 0:00:07\n",
      "     ---------- ----------------------------- 1.6/6.0 MB 682.1 kB/s eta 0:00:07\n",
      "     ---------- ----------------------------- 1.6/6.0 MB 690.5 kB/s eta 0:00:07\n",
      "     ----------- ---------------------------- 1.7/6.0 MB 689.8 kB/s eta 0:00:07\n",
      "     ----------- ---------------------------- 1.7/6.0 MB 689.1 kB/s eta 0:00:07\n",
      "     ----------- ---------------------------- 1.7/6.0 MB 692.6 kB/s eta 0:00:07\n",
      "     ----------- ---------------------------- 1.8/6.0 MB 691.8 kB/s eta 0:00:07\n",
      "     ------------ --------------------------- 1.8/6.0 MB 691.1 kB/s eta 0:00:07\n",
      "     ------------ --------------------------- 1.8/6.0 MB 690.5 kB/s eta 0:00:07\n",
      "     ------------ --------------------------- 1.9/6.0 MB 694.0 kB/s eta 0:00:06\n",
      "     ------------ --------------------------- 1.9/6.0 MB 697.1 kB/s eta 0:00:06\n",
      "     ------------ --------------------------- 1.9/6.0 MB 696.3 kB/s eta 0:00:06\n",
      "     ------------- -------------------------- 2.0/6.0 MB 695.9 kB/s eta 0:00:06\n",
      "     ------------- -------------------------- 2.0/6.0 MB 695.2 kB/s eta 0:00:06\n",
      "     ------------- -------------------------- 2.0/6.0 MB 694.5 kB/s eta 0:00:06\n",
      "     ------------- -------------------------- 2.1/6.0 MB 697.3 kB/s eta 0:00:06\n",
      "     -------------- ------------------------- 2.1/6.0 MB 696.6 kB/s eta 0:00:06\n",
      "     -------------- ------------------------- 2.1/6.0 MB 699.6 kB/s eta 0:00:06\n",
      "     -------------- ------------------------- 2.2/6.0 MB 698.9 kB/s eta 0:00:06\n",
      "     -------------- ------------------------- 2.2/6.0 MB 694.6 kB/s eta 0:00:06\n",
      "     -------------- ------------------------- 2.2/6.0 MB 700.8 kB/s eta 0:00:06\n",
      "     --------------- ------------------------ 2.3/6.0 MB 700.1 kB/s eta 0:00:06\n",
      "     --------------- ------------------------ 2.3/6.0 MB 702.5 kB/s eta 0:00:06\n",
      "     --------------- ------------------------ 2.3/6.0 MB 701.8 kB/s eta 0:00:06\n",
      "     --------------- ------------------------ 2.4/6.0 MB 701.2 kB/s eta 0:00:06\n",
      "     ---------------- ----------------------- 2.4/6.0 MB 700.5 kB/s eta 0:00:06\n",
      "     ---------------- ----------------------- 2.4/6.0 MB 699.9 kB/s eta 0:00:06\n",
      "     ---------------- ----------------------- 2.5/6.0 MB 702.5 kB/s eta 0:00:05\n",
      "     ---------------- ----------------------- 2.5/6.0 MB 704.7 kB/s eta 0:00:05\n",
      "     ---------------- ----------------------- 2.5/6.0 MB 704.0 kB/s eta 0:00:05\n",
      "     ----------------- ---------------------- 2.6/6.0 MB 703.4 kB/s eta 0:00:05\n",
      "     ----------------- ---------------------- 2.6/6.0 MB 702.9 kB/s eta 0:00:05\n",
      "     ----------------- ---------------------- 2.6/6.0 MB 702.3 kB/s eta 0:00:05\n",
      "     ----------------- ---------------------- 2.7/6.0 MB 704.4 kB/s eta 0:00:05\n",
      "     ----------------- ---------------------- 2.7/6.0 MB 701.1 kB/s eta 0:00:05\n",
      "     ------------------ --------------------- 2.7/6.0 MB 706.1 kB/s eta 0:00:05\n",
      "     ------------------ --------------------- 2.8/6.0 MB 705.5 kB/s eta 0:00:05\n",
      "     ------------------ --------------------- 2.8/6.0 MB 704.9 kB/s eta 0:00:05\n",
      "     ------------------ --------------------- 2.8/6.0 MB 706.8 kB/s eta 0:00:05\n",
      "     ------------------- -------------------- 2.9/6.0 MB 706.2 kB/s eta 0:00:05\n",
      "     ------------------- -------------------- 2.9/6.0 MB 705.6 kB/s eta 0:00:05\n",
      "     ------------------- -------------------- 2.9/6.0 MB 705.0 kB/s eta 0:00:05\n",
      "     ------------------- -------------------- 2.9/6.0 MB 707.1 kB/s eta 0:00:05\n",
      "     ------------------- -------------------- 3.0/6.0 MB 706.5 kB/s eta 0:00:05\n",
      "     -------------------- ------------------- 3.0/6.0 MB 706.0 kB/s eta 0:00:05\n",
      "     -------------------- ------------------- 3.1/6.0 MB 707.9 kB/s eta 0:00:05\n",
      "     -------------------- ------------------- 3.1/6.0 MB 707.3 kB/s eta 0:00:05\n",
      "     -------------------- ------------------- 3.1/6.0 MB 706.8 kB/s eta 0:00:05\n",
      "     --------------------- ------------------ 3.1/6.0 MB 708.8 kB/s eta 0:00:04\n",
      "     --------------------- ------------------ 3.2/6.0 MB 708.2 kB/s eta 0:00:04\n",
      "     --------------------- ------------------ 3.2/6.0 MB 707.6 kB/s eta 0:00:04\n",
      "     --------------------- ------------------ 3.2/6.0 MB 709.3 kB/s eta 0:00:04\n",
      "     --------------------- ------------------ 3.3/6.0 MB 708.7 kB/s eta 0:00:04\n",
      "     ---------------------- ----------------- 3.3/6.0 MB 708.2 kB/s eta 0:00:04\n",
      "     ---------------------- ----------------- 3.3/6.0 MB 707.6 kB/s eta 0:00:04\n",
      "     ---------------------- ----------------- 3.4/6.0 MB 707.3 kB/s eta 0:00:04\n",
      "     ---------------------- ----------------- 3.4/6.0 MB 708.9 kB/s eta 0:00:04\n",
      "     ---------------------- ----------------- 3.4/6.0 MB 706.2 kB/s eta 0:00:04\n",
      "     ----------------------- ---------------- 3.5/6.0 MB 707.9 kB/s eta 0:00:04\n",
      "     ----------------------- ---------------- 3.5/6.0 MB 709.6 kB/s eta 0:00:04\n",
      "     ----------------------- ---------------- 3.5/6.0 MB 709.0 kB/s eta 0:00:04\n",
      "     ----------------------- ---------------- 3.6/6.0 MB 708.5 kB/s eta 0:00:04\n",
      "     ------------------------ --------------- 3.6/6.0 MB 708.0 kB/s eta 0:00:04\n",
      "     ------------------------ --------------- 3.6/6.0 MB 705.3 kB/s eta 0:00:04\n",
      "     ------------------------ --------------- 3.7/6.0 MB 707.0 kB/s eta 0:00:04\n",
      "     ------------------------ --------------- 3.7/6.0 MB 706.5 kB/s eta 0:00:04\n",
      "     ------------------------ --------------- 3.7/6.0 MB 706.0 kB/s eta 0:00:04\n",
      "     ------------------------- -------------- 3.8/6.0 MB 707.7 kB/s eta 0:00:04\n",
      "     ------------------------- -------------- 3.8/6.0 MB 705.1 kB/s eta 0:00:04\n",
      "     ------------------------- -------------- 3.8/6.0 MB 706.8 kB/s eta 0:00:04\n",
      "     ------------------------- -------------- 3.8/6.0 MB 702.3 kB/s eta 0:00:04\n",
      "     -------------------------- ------------- 3.9/6.0 MB 703.7 kB/s eta 0:00:03\n",
      "     -------------------------- ------------- 3.9/6.0 MB 703.5 kB/s eta 0:00:03\n",
      "     -------------------------- ------------- 3.9/6.0 MB 703.0 kB/s eta 0:00:03\n",
      "     -------------------------- ------------- 4.0/6.0 MB 702.6 kB/s eta 0:00:03\n",
      "     -------------------------- ------------- 4.0/6.0 MB 702.4 kB/s eta 0:00:03\n",
      "     --------------------------- ------------ 4.0/6.0 MB 701.8 kB/s eta 0:00:03\n",
      "     --------------------------- ------------ 4.1/6.0 MB 701.6 kB/s eta 0:00:03\n",
      "     --------------------------- ------------ 4.1/6.0 MB 701.2 kB/s eta 0:00:03\n",
      "     --------------------------- ------------ 4.1/6.0 MB 700.8 kB/s eta 0:00:03\n",
      "     --------------------------- ------------ 4.1/6.0 MB 700.5 kB/s eta 0:00:03\n",
      "     ---------------------------- ----------- 4.2/6.0 MB 700.1 kB/s eta 0:00:03\n",
      "     ---------------------------- ----------- 4.2/6.0 MB 701.4 kB/s eta 0:00:03\n",
      "     ---------------------------- ----------- 4.3/6.0 MB 701.0 kB/s eta 0:00:03\n",
      "     ---------------------------- ----------- 4.3/6.0 MB 700.7 kB/s eta 0:00:03\n",
      "     ----------------------------- ---------- 4.3/6.0 MB 701.9 kB/s eta 0:00:03\n",
      "     ----------------------------- ---------- 4.4/6.0 MB 701.5 kB/s eta 0:00:03\n",
      "     ----------------------------- ---------- 4.4/6.0 MB 701.2 kB/s eta 0:00:03\n",
      "     ----------------------------- ---------- 4.4/6.0 MB 701.0 kB/s eta 0:00:03\n",
      "     ----------------------------- ---------- 4.5/6.0 MB 700.6 kB/s eta 0:00:03\n",
      "     ------------------------------ --------- 4.5/6.0 MB 701.9 kB/s eta 0:00:03\n",
      "     ------------------------------ --------- 4.5/6.0 MB 701.4 kB/s eta 0:00:03\n",
      "     ------------------------------ --------- 4.6/6.0 MB 702.6 kB/s eta 0:00:02\n",
      "     ------------------------------ --------- 4.6/6.0 MB 700.9 kB/s eta 0:00:02\n",
      "     ------------------------------ --------- 4.6/6.0 MB 700.5 kB/s eta 0:00:02\n",
      "     ------------------------------- -------- 4.7/6.0 MB 701.7 kB/s eta 0:00:02\n",
      "     ------------------------------- -------- 4.7/6.0 MB 701.5 kB/s eta 0:00:02\n",
      "     ------------------------------- -------- 4.7/6.0 MB 701.2 kB/s eta 0:00:02\n",
      "     ------------------------------- -------- 4.8/6.0 MB 702.4 kB/s eta 0:00:02\n",
      "     -------------------------------- ------- 4.8/6.0 MB 700.5 kB/s eta 0:00:02\n",
      "     -------------------------------- ------- 4.8/6.0 MB 703.3 kB/s eta 0:00:02\n",
      "     -------------------------------- ------- 4.8/6.0 MB 701.5 kB/s eta 0:00:02\n",
      "     -------------------------------- ------- 4.9/6.0 MB 701.0 kB/s eta 0:00:02\n",
      "     -------------------------------- ------- 4.9/6.0 MB 700.7 kB/s eta 0:00:02\n",
      "     --------------------------------- ------ 4.9/6.0 MB 700.5 kB/s eta 0:00:02\n",
      "     --------------------------------- ------ 5.0/6.0 MB 701.7 kB/s eta 0:00:02\n",
      "     --------------------------------- ------ 5.0/6.0 MB 701.4 kB/s eta 0:00:02\n",
      "     --------------------------------- ------ 5.0/6.0 MB 702.7 kB/s eta 0:00:02\n",
      "     --------------------------------- ------ 5.1/6.0 MB 700.9 kB/s eta 0:00:02\n",
      "     ---------------------------------- ----- 5.1/6.0 MB 700.6 kB/s eta 0:00:02\n",
      "     ---------------------------------- ----- 5.1/6.0 MB 701.8 kB/s eta 0:00:02\n",
      "     ---------------------------------- ----- 5.1/6.0 MB 700.1 kB/s eta 0:00:02\n",
      "     ---------------------------------- ----- 5.2/6.0 MB 699.8 kB/s eta 0:00:02\n",
      "     ---------------------------------- ----- 5.2/6.0 MB 701.0 kB/s eta 0:00:02\n",
      "     ----------------------------------- ---- 5.2/6.0 MB 700.7 kB/s eta 0:00:02\n",
      "     ----------------------------------- ---- 5.3/6.0 MB 700.4 kB/s eta 0:00:01\n",
      "     ----------------------------------- ---- 5.3/6.0 MB 700.1 kB/s eta 0:00:01\n",
      "     ----------------------------------- ---- 5.3/6.0 MB 699.8 kB/s eta 0:00:01\n",
      "     ------------------------------------ --- 5.4/6.0 MB 700.9 kB/s eta 0:00:01\n",
      "     ------------------------------------ --- 5.4/6.0 MB 700.5 kB/s eta 0:00:01\n",
      "     ------------------------------------ --- 5.4/6.0 MB 700.3 kB/s eta 0:00:01\n",
      "     ------------------------------------ --- 5.5/6.0 MB 700.1 kB/s eta 0:00:01\n",
      "     ------------------------------------ --- 5.5/6.0 MB 701.2 kB/s eta 0:00:01\n",
      "     ------------------------------------- -- 5.5/6.0 MB 700.8 kB/s eta 0:00:01\n",
      "     ------------------------------------- -- 5.6/6.0 MB 700.4 kB/s eta 0:00:01\n",
      "     ------------------------------------- -- 5.6/6.0 MB 700.3 kB/s eta 0:00:01\n",
      "     ------------------------------------- -- 5.6/6.0 MB 700.0 kB/s eta 0:00:01\n",
      "     ------------------------------------- -- 5.7/6.0 MB 699.7 kB/s eta 0:00:01\n",
      "     -------------------------------------- - 5.7/6.0 MB 700.7 kB/s eta 0:00:01\n",
      "     -------------------------------------- - 5.7/6.0 MB 700.4 kB/s eta 0:00:01\n",
      "     -------------------------------------- - 5.8/6.0 MB 701.6 kB/s eta 0:00:01\n",
      "     -------------------------------------- - 5.8/6.0 MB 698.8 kB/s eta 0:00:01\n",
      "     -------------------------------------- - 5.8/6.0 MB 696.1 kB/s eta 0:00:01\n",
      "     ---------------------------------------  5.8/6.0 MB 695.8 kB/s eta 0:00:01\n",
      "     ---------------------------------------  5.9/6.0 MB 695.6 kB/s eta 0:00:01\n",
      "     ---------------------------------------  5.9/6.0 MB 696.5 kB/s eta 0:00:01\n",
      "     ---------------------------------------  5.9/6.0 MB 696.3 kB/s eta 0:00:01\n",
      "     ---------------------------------------  6.0/6.0 MB 696.2 kB/s eta 0:00:01\n",
      "     ---------------------------------------  6.0/6.0 MB 696.2 kB/s eta 0:00:01\n",
      "     ---------------------------------------  6.0/6.0 MB 696.2 kB/s eta 0:00:01\n",
      "     ---------------------------------------- 6.0/6.0 MB 686.9 kB/s eta 0:00:00\n",
      "  Installing build dependencies: started\n",
      "  Installing build dependencies: finished with status 'done'\n",
      "  Getting requirements to build wheel: started\n",
      "  Getting requirements to build wheel: finished with status 'done'\n",
      "  Installing backend dependencies: started\n",
      "  Installing backend dependencies: finished with status 'done'\n",
      "  Preparing metadata (pyproject.toml): started\n",
      "  Preparing metadata (pyproject.toml): finished with status 'done'\n",
      "Building wheels for collected packages: sqlalchemy\n",
      "  Building wheel for sqlalchemy (pyproject.toml): started\n",
      "  Building wheel for sqlalchemy (pyproject.toml): finished with status 'done'\n",
      "  Created wheel for sqlalchemy: filename=SQLAlchemy-1.3.9-cp312-cp312-win_amd64.whl size=1142949 sha256=708feb63938d34f3c1cd0eb74ad0f500af910d260fa0b77a0e4d6290229642fb\n",
      "  Stored in directory: c:\\users\\kevin\\appdata\\local\\pip\\cache\\wheels\\b3\\1c\\42\\0e26b8d512adc6bce10ff71a05229366b4ccec641cd3b42111\n",
      "Successfully built sqlalchemy\n",
      "Installing collected packages: sqlalchemy\n",
      "Successfully installed sqlalchemy-1.3.9\n"
     ]
    }
   ],
   "source": [
    "!pip install sqlalchemy==1.3.9\n"
   ]
  },
  {
   "cell_type": "markdown",
   "metadata": {},
   "source": [
    "### Connect to the database\n",
    "\n",
    "Let us first load the SQL extension and establish a connection with the database\n"
   ]
  },
  {
   "cell_type": "code",
   "execution_count": 2,
   "metadata": {},
   "outputs": [
    {
     "name": "stdout",
     "output_type": "stream",
     "text": [
      "Collecting ipython-sql\n",
      "  Downloading ipython_sql-0.5.0-py3-none-any.whl.metadata (17 kB)\n",
      "Collecting prettytable (from ipython-sql)\n",
      "  Downloading prettytable-3.10.0-py3-none-any.whl.metadata (30 kB)\n",
      "Requirement already satisfied: ipython in c:\\users\\kevin\\appdata\\roaming\\python\\python312\\site-packages (from ipython-sql) (8.23.0)\n",
      "Collecting sqlalchemy>=2.0 (from ipython-sql)\n",
      "  Downloading SQLAlchemy-2.0.29-cp312-cp312-win_amd64.whl.metadata (9.8 kB)\n",
      "Collecting sqlparse (from ipython-sql)\n",
      "  Downloading sqlparse-0.4.4-py3-none-any.whl.metadata (4.0 kB)\n",
      "Requirement already satisfied: six in c:\\users\\kevin\\appdata\\local\\programs\\python\\python312\\lib\\site-packages (from ipython-sql) (1.16.0)\n",
      "Collecting ipython-genutils (from ipython-sql)\n",
      "  Downloading ipython_genutils-0.2.0-py2.py3-none-any.whl.metadata (755 bytes)\n",
      "Requirement already satisfied: typing-extensions>=4.6.0 in c:\\users\\kevin\\appdata\\local\\programs\\python\\python312\\lib\\site-packages (from sqlalchemy>=2.0->ipython-sql) (4.10.0)\n",
      "Collecting greenlet!=0.4.17 (from sqlalchemy>=2.0->ipython-sql)\n",
      "  Downloading greenlet-3.0.3-cp312-cp312-win_amd64.whl.metadata (3.9 kB)\n",
      "Requirement already satisfied: decorator in c:\\users\\kevin\\appdata\\roaming\\python\\python312\\site-packages (from ipython->ipython-sql) (5.1.1)\n",
      "Requirement already satisfied: jedi>=0.16 in c:\\users\\kevin\\appdata\\roaming\\python\\python312\\site-packages (from ipython->ipython-sql) (0.19.1)\n",
      "Requirement already satisfied: matplotlib-inline in c:\\users\\kevin\\appdata\\roaming\\python\\python312\\site-packages (from ipython->ipython-sql) (0.1.6)\n",
      "Requirement already satisfied: prompt-toolkit<3.1.0,>=3.0.41 in c:\\users\\kevin\\appdata\\roaming\\python\\python312\\site-packages (from ipython->ipython-sql) (3.0.43)\n",
      "Requirement already satisfied: pygments>=2.4.0 in c:\\users\\kevin\\appdata\\roaming\\python\\python312\\site-packages (from ipython->ipython-sql) (2.17.2)\n",
      "Requirement already satisfied: stack-data in c:\\users\\kevin\\appdata\\roaming\\python\\python312\\site-packages (from ipython->ipython-sql) (0.6.3)\n",
      "Requirement already satisfied: traitlets>=5.13.0 in c:\\users\\kevin\\appdata\\roaming\\python\\python312\\site-packages (from ipython->ipython-sql) (5.14.2)\n",
      "Requirement already satisfied: colorama in c:\\users\\kevin\\appdata\\local\\programs\\python\\python312\\lib\\site-packages (from ipython->ipython-sql) (0.4.6)\n",
      "Requirement already satisfied: wcwidth in c:\\users\\kevin\\appdata\\roaming\\python\\python312\\site-packages (from prettytable->ipython-sql) (0.2.13)\n",
      "Requirement already satisfied: parso<0.9.0,>=0.8.3 in c:\\users\\kevin\\appdata\\roaming\\python\\python312\\site-packages (from jedi>=0.16->ipython->ipython-sql) (0.8.3)\n",
      "Requirement already satisfied: executing>=1.2.0 in c:\\users\\kevin\\appdata\\roaming\\python\\python312\\site-packages (from stack-data->ipython->ipython-sql) (2.0.1)\n",
      "Requirement already satisfied: asttokens>=2.1.0 in c:\\users\\kevin\\appdata\\roaming\\python\\python312\\site-packages (from stack-data->ipython->ipython-sql) (2.4.1)\n",
      "Requirement already satisfied: pure-eval in c:\\users\\kevin\\appdata\\roaming\\python\\python312\\site-packages (from stack-data->ipython->ipython-sql) (0.2.2)\n",
      "Downloading ipython_sql-0.5.0-py3-none-any.whl (20 kB)\n",
      "Downloading SQLAlchemy-2.0.29-cp312-cp312-win_amd64.whl (2.1 MB)\n",
      "   ---------------------------------------- 0.0/2.1 MB ? eta -:--:--\n",
      "    --------------------------------------- 0.0/2.1 MB 1.3 MB/s eta 0:00:02\n",
      "    --------------------------------------- 0.0/2.1 MB 653.6 kB/s eta 0:00:04\n",
      "   - -------------------------------------- 0.1/2.1 MB 655.4 kB/s eta 0:00:04\n",
      "   -- ------------------------------------- 0.1/2.1 MB 717.5 kB/s eta 0:00:03\n",
      "   --- ------------------------------------ 0.2/2.1 MB 756.6 kB/s eta 0:00:03\n",
      "   --- ------------------------------------ 0.2/2.1 MB 692.9 kB/s eta 0:00:03\n",
      "   ---- ----------------------------------- 0.2/2.1 MB 687.0 kB/s eta 0:00:03\n",
      "   ---- ----------------------------------- 0.3/2.1 MB 682.7 kB/s eta 0:00:03\n",
      "   ----- ---------------------------------- 0.3/2.1 MB 679.3 kB/s eta 0:00:03\n",
      "   ------ --------------------------------- 0.3/2.1 MB 700.8 kB/s eta 0:00:03\n",
      "   ------ --------------------------------- 0.4/2.1 MB 696.3 kB/s eta 0:00:03\n",
      "   ------- -------------------------------- 0.4/2.1 MB 692.6 kB/s eta 0:00:03\n",
      "   -------- ------------------------------- 0.4/2.1 MB 689.6 kB/s eta 0:00:03\n",
      "   -------- ------------------------------- 0.5/2.1 MB 704.5 kB/s eta 0:00:03\n",
      "   --------- ------------------------------ 0.5/2.1 MB 684.7 kB/s eta 0:00:03\n",
      "   --------- ------------------------------ 0.5/2.1 MB 682.7 kB/s eta 0:00:03\n",
      "   ---------- ----------------------------- 0.6/2.1 MB 694.0 kB/s eta 0:00:03\n",
      "   ----------- ---------------------------- 0.6/2.1 MB 691.6 kB/s eta 0:00:03\n",
      "   ------------ --------------------------- 0.6/2.1 MB 701.1 kB/s eta 0:00:03\n",
      "   ------------ --------------------------- 0.7/2.1 MB 698.7 kB/s eta 0:00:03\n",
      "   ------------- -------------------------- 0.7/2.1 MB 697.5 kB/s eta 0:00:02\n",
      "   -------------- ------------------------- 0.7/2.1 MB 694.6 kB/s eta 0:00:02\n",
      "   -------------- ------------------------- 0.8/2.1 MB 702.9 kB/s eta 0:00:02\n",
      "   --------------- ------------------------ 0.8/2.1 MB 700.0 kB/s eta 0:00:02\n",
      "   ---------------- ----------------------- 0.8/2.1 MB 698.2 kB/s eta 0:00:02\n",
      "   ---------------- ----------------------- 0.8/2.1 MB 688.8 kB/s eta 0:00:02\n",
      "   ----------------- ---------------------- 0.9/2.1 MB 695.6 kB/s eta 0:00:02\n",
      "   ----------------- ---------------------- 0.9/2.1 MB 678.5 kB/s eta 0:00:02\n",
      "   ------------------ --------------------- 0.9/2.1 MB 677.7 kB/s eta 0:00:02\n",
      "   ------------------ --------------------- 1.0/2.1 MB 684.1 kB/s eta 0:00:02\n",
      "   ------------------- -------------------- 1.0/2.1 MB 683.6 kB/s eta 0:00:02\n",
      "   ------------------- -------------------- 1.0/2.1 MB 682.7 kB/s eta 0:00:02\n",
      "   -------------------- ------------------- 1.1/2.1 MB 681.8 kB/s eta 0:00:02\n",
      "   -------------------- ------------------- 1.1/2.1 MB 674.5 kB/s eta 0:00:02\n",
      "   --------------------- ------------------ 1.1/2.1 MB 673.9 kB/s eta 0:00:02\n",
      "   --------------------- ------------------ 1.1/2.1 MB 673.9 kB/s eta 0:00:02\n",
      "   ---------------------- ----------------- 1.2/2.1 MB 666.9 kB/s eta 0:00:02\n",
      "   ----------------------- ---------------- 1.2/2.1 MB 655.2 kB/s eta 0:00:02\n",
      "   ----------------------- ---------------- 1.2/2.1 MB 655.1 kB/s eta 0:00:02\n",
      "   ------------------------ --------------- 1.3/2.1 MB 655.2 kB/s eta 0:00:02\n",
      "   ------------------------- -------------- 1.3/2.1 MB 645.1 kB/s eta 0:00:02\n",
      "   ------------------------- -------------- 1.3/2.1 MB 645.3 kB/s eta 0:00:02\n",
      "   ------------------------- -------------- 1.3/2.1 MB 635.7 kB/s eta 0:00:02\n",
      "   -------------------------- ------------- 1.4/2.1 MB 640.9 kB/s eta 0:00:02\n",
      "   --------------------------- ------------ 1.4/2.1 MB 641.2 kB/s eta 0:00:02\n",
      "   --------------------------- ------------ 1.4/2.1 MB 637.2 kB/s eta 0:00:01\n",
      "   ---------------------------- ----------- 1.5/2.1 MB 628.6 kB/s eta 0:00:01\n",
      "   ---------------------------- ----------- 1.5/2.1 MB 633.1 kB/s eta 0:00:01\n",
      "   ----------------------------- ---------- 1.5/2.1 MB 633.8 kB/s eta 0:00:01\n",
      "   ------------------------------ --------- 1.6/2.1 MB 638.4 kB/s eta 0:00:01\n",
      "   ------------------------------ --------- 1.6/2.1 MB 634.6 kB/s eta 0:00:01\n",
      "   ------------------------------- -------- 1.6/2.1 MB 639.0 kB/s eta 0:00:01\n",
      "   ------------------------------- -------- 1.7/2.1 MB 639.5 kB/s eta 0:00:01\n",
      "   -------------------------------- ------- 1.7/2.1 MB 639.5 kB/s eta 0:00:01\n",
      "   -------------------------------- ------- 1.7/2.1 MB 639.8 kB/s eta 0:00:01\n",
      "   --------------------------------- ------ 1.8/2.1 MB 644.0 kB/s eta 0:00:01\n",
      "   ---------------------------------- ----- 1.8/2.1 MB 644.2 kB/s eta 0:00:01\n",
      "   ---------------------------------- ----- 1.8/2.1 MB 640.7 kB/s eta 0:00:01\n",
      "   ----------------------------------- ---- 1.8/2.1 MB 640.9 kB/s eta 0:00:01\n",
      "   ----------------------------------- ---- 1.9/2.1 MB 641.1 kB/s eta 0:00:01\n",
      "   ------------------------------------ --- 1.9/2.1 MB 634.3 kB/s eta 0:00:01\n",
      "   ------------------------------------ --- 1.9/2.1 MB 638.1 kB/s eta 0:00:01\n",
      "   ------------------------------------- -- 1.9/2.1 MB 638.3 kB/s eta 0:00:01\n",
      "   -------------------------------------- - 2.0/2.1 MB 638.8 kB/s eta 0:00:01\n",
      "   -------------------------------------- - 2.0/2.1 MB 639.0 kB/s eta 0:00:01\n",
      "   ---------------------------------------  2.0/2.1 MB 639.2 kB/s eta 0:00:01\n",
      "   ---------------------------------------  2.1/2.1 MB 642.6 kB/s eta 0:00:01\n",
      "   ---------------------------------------- 2.1/2.1 MB 638.0 kB/s eta 0:00:00\n",
      "Downloading ipython_genutils-0.2.0-py2.py3-none-any.whl (26 kB)\n",
      "Downloading prettytable-3.10.0-py3-none-any.whl (28 kB)\n",
      "Downloading sqlparse-0.4.4-py3-none-any.whl (41 kB)\n",
      "   ---------------------------------------- 0.0/41.2 kB ? eta -:--:--\n",
      "   --------- ------------------------------ 10.2/41.2 kB ? eta -:--:--\n",
      "   ---------------------------------------- 41.2/41.2 kB 672.7 kB/s eta 0:00:00\n",
      "Downloading greenlet-3.0.3-cp312-cp312-win_amd64.whl (293 kB)\n",
      "   ---------------------------------------- 0.0/293.6 kB ? eta -:--:--\n",
      "   ---- ---------------------------------- 30.7/293.6 kB 640.0 kB/s eta 0:00:01\n",
      "   ----- --------------------------------- 41.0/293.6 kB 653.6 kB/s eta 0:00:01\n",
      "   ---------- ---------------------------- 81.9/293.6 kB 651.6 kB/s eta 0:00:01\n",
      "   -------------- ----------------------- 112.6/293.6 kB 652.2 kB/s eta 0:00:01\n",
      "   ------------------ ------------------- 143.4/293.6 kB 652.5 kB/s eta 0:00:01\n",
      "   --------------------- ---------------- 163.8/293.6 kB 701.4 kB/s eta 0:00:01\n",
      "   ---------------------- --------------- 174.1/293.6 kB 615.9 kB/s eta 0:00:01\n",
      "   ------------------------- ------------ 194.6/293.6 kB 560.2 kB/s eta 0:00:01\n",
      "   -------------------------- ----------- 204.8/293.6 kB 497.6 kB/s eta 0:00:01\n",
      "   -------------------------- ----------- 204.8/293.6 kB 497.6 kB/s eta 0:00:01\n",
      "   ----------------------------- -------- 225.3/293.6 kB 458.5 kB/s eta 0:00:01\n",
      "   ------------------------------- ------ 245.8/293.6 kB 471.0 kB/s eta 0:00:01\n",
      "   -------------------------------------  286.7/293.6 kB 477.5 kB/s eta 0:00:01\n",
      "   -------------------------------------- 293.6/293.6 kB 477.1 kB/s eta 0:00:00\n",
      "Installing collected packages: ipython-genutils, sqlparse, prettytable, greenlet, sqlalchemy, ipython-sql\n",
      "  Attempting uninstall: sqlalchemy\n",
      "    Found existing installation: SQLAlchemy 1.3.9\n",
      "    Uninstalling SQLAlchemy-1.3.9:\n",
      "      Successfully uninstalled SQLAlchemy-1.3.9\n",
      "Successfully installed greenlet-3.0.3 ipython-genutils-0.2.0 ipython-sql-0.5.0 prettytable-3.10.0 sqlalchemy-2.0.29 sqlparse-0.4.4\n"
     ]
    }
   ],
   "source": [
    "#Please uncomment and execute the code below if you are working locally.\n",
    "\n",
    "!pip install ipython-sql"
   ]
  },
  {
   "cell_type": "code",
   "execution_count": 3,
   "metadata": {},
   "outputs": [],
   "source": [
    "%load_ext sql"
   ]
  },
  {
   "cell_type": "code",
   "execution_count": 4,
   "metadata": {},
   "outputs": [],
   "source": [
    "import csv, sqlite3\n",
    "\n",
    "con = sqlite3.connect(\"my_data1.db\")\n",
    "cur = con.cursor()"
   ]
  },
  {
   "cell_type": "code",
   "execution_count": 5,
   "metadata": {},
   "outputs": [
    {
     "name": "stderr",
     "output_type": "stream",
     "text": [
      "  error: subprocess-exited-with-error\n",
      "  \n",
      "  × Getting requirements to build wheel did not run successfully.\n",
      "  │ exit code: 1\n",
      "  ╰─> [32 lines of output]\n",
      "      <string>:19: DeprecationWarning: pkg_resources is deprecated as an API. See https://setuptools.pypa.io/en/latest/pkg_resources.html\n",
      "      <string>:45: DeprecationWarning: distutils Version classes are deprecated. Use packaging.version instead.\n",
      "      Traceback (most recent call last):\n",
      "        File \"C:\\Users\\kevin\\AppData\\Local\\Programs\\Python\\Python312\\Lib\\site-packages\\pip\\_vendor\\pyproject_hooks\\_in_process\\_in_process.py\", line 353, in <module>\n",
      "          main()\n",
      "        File \"C:\\Users\\kevin\\AppData\\Local\\Programs\\Python\\Python312\\Lib\\site-packages\\pip\\_vendor\\pyproject_hooks\\_in_process\\_in_process.py\", line 335, in main\n",
      "          json_out['return_val'] = hook(**hook_input['kwargs'])\n",
      "                                   ^^^^^^^^^^^^^^^^^^^^^^^^^^^^\n",
      "        File \"C:\\Users\\kevin\\AppData\\Local\\Programs\\Python\\Python312\\Lib\\site-packages\\pip\\_vendor\\pyproject_hooks\\_in_process\\_in_process.py\", line 118, in get_requires_for_build_wheel\n",
      "          return hook(config_settings)\n",
      "                 ^^^^^^^^^^^^^^^^^^^^^\n",
      "        File \"C:\\Users\\kevin\\AppData\\Local\\Temp\\pip-build-env-hcjh3ka9\\overlay\\Lib\\site-packages\\setuptools\\build_meta.py\", line 325, in get_requires_for_build_wheel\n",
      "          return self._get_build_requires(config_settings, requirements=['wheel'])\n",
      "                 ^^^^^^^^^^^^^^^^^^^^^^^^^^^^^^^^^^^^^^^^^^^^^^^^^^^^^^^^^^^^^^^^^\n",
      "        File \"C:\\Users\\kevin\\AppData\\Local\\Temp\\pip-build-env-hcjh3ka9\\overlay\\Lib\\site-packages\\setuptools\\build_meta.py\", line 295, in _get_build_requires\n",
      "          self.run_setup()\n",
      "        File \"C:\\Users\\kevin\\AppData\\Local\\Temp\\pip-build-env-hcjh3ka9\\overlay\\Lib\\site-packages\\setuptools\\build_meta.py\", line 487, in run_setup\n",
      "          super().run_setup(setup_script=setup_script)\n",
      "        File \"C:\\Users\\kevin\\AppData\\Local\\Temp\\pip-build-env-hcjh3ka9\\overlay\\Lib\\site-packages\\setuptools\\build_meta.py\", line 311, in run_setup\n",
      "          exec(code, locals())\n",
      "        File \"<string>\", line 793, in <module>\n",
      "        File \"<string>\", line 760, in setup_package\n",
      "        File \"C:\\Users\\kevin\\AppData\\Local\\Temp\\pip-install-oyukob1g\\pandas_f3e2f0165b37470187b00158f335f405\\versioneer.py\", line 1439, in get_version\n",
      "          return get_versions()[\"version\"]\n",
      "                 ^^^^^^^^^^^^^^\n",
      "        File \"C:\\Users\\kevin\\AppData\\Local\\Temp\\pip-install-oyukob1g\\pandas_f3e2f0165b37470187b00158f335f405\\versioneer.py\", line 1368, in get_versions\n",
      "          cfg = get_config_from_root(root)\n",
      "                ^^^^^^^^^^^^^^^^^^^^^^^^^^\n",
      "        File \"C:\\Users\\kevin\\AppData\\Local\\Temp\\pip-install-oyukob1g\\pandas_f3e2f0165b37470187b00158f335f405\\versioneer.py\", line 400, in get_config_from_root\n",
      "          parser = configparser.SafeConfigParser()\n",
      "                   ^^^^^^^^^^^^^^^^^^^^^^^^^^^^^\n",
      "      AttributeError: module 'configparser' has no attribute 'SafeConfigParser'. Did you mean: 'RawConfigParser'?\n",
      "      [end of output]\n",
      "  \n",
      "  note: This error originates from a subprocess, and is likely not a problem with pip.\n",
      "error: subprocess-exited-with-error\n",
      "\n",
      "× Getting requirements to build wheel did not run successfully.\n",
      "│ exit code: 1\n",
      "╰─> See above for output.\n",
      "\n",
      "note: This error originates from a subprocess, and is likely not a problem with pip.\n"
     ]
    }
   ],
   "source": [
    "!pip install -q pandas==1.1.5"
   ]
  },
  {
   "cell_type": "code",
   "execution_count": 6,
   "metadata": {},
   "outputs": [],
   "source": [
    "%sql sqlite:///my_data1.db"
   ]
  },
  {
   "cell_type": "code",
   "execution_count": 7,
   "metadata": {},
   "outputs": [
    {
     "data": {
      "text/plain": [
       "101"
      ]
     },
     "execution_count": 7,
     "metadata": {},
     "output_type": "execute_result"
    }
   ],
   "source": [
    "import pandas as pd\n",
    "df = pd.read_csv(\"https://cf-courses-data.s3.us.cloud-object-storage.appdomain.cloud/IBM-DS0321EN-SkillsNetwork/labs/module_2/data/Spacex.csv\")\n",
    "df.to_sql(\"SPACEXTBL\", con, if_exists='replace', index=False,method=\"multi\")"
   ]
  },
  {
   "cell_type": "code",
   "execution_count": 8,
   "metadata": {},
   "outputs": [
    {
     "data": {
      "text/html": [
       "<div>\n",
       "<style scoped>\n",
       "    .dataframe tbody tr th:only-of-type {\n",
       "        vertical-align: middle;\n",
       "    }\n",
       "\n",
       "    .dataframe tbody tr th {\n",
       "        vertical-align: top;\n",
       "    }\n",
       "\n",
       "    .dataframe thead th {\n",
       "        text-align: right;\n",
       "    }\n",
       "</style>\n",
       "<table border=\"1\" class=\"dataframe\">\n",
       "  <thead>\n",
       "    <tr style=\"text-align: right;\">\n",
       "      <th></th>\n",
       "      <th>Date</th>\n",
       "      <th>Time (UTC)</th>\n",
       "      <th>Booster_Version</th>\n",
       "      <th>Launch_Site</th>\n",
       "      <th>Payload</th>\n",
       "      <th>PAYLOAD_MASS__KG_</th>\n",
       "      <th>Orbit</th>\n",
       "      <th>Customer</th>\n",
       "      <th>Mission_Outcome</th>\n",
       "      <th>Landing_Outcome</th>\n",
       "    </tr>\n",
       "  </thead>\n",
       "  <tbody>\n",
       "    <tr>\n",
       "      <th>0</th>\n",
       "      <td>2010-06-04</td>\n",
       "      <td>18:45:00</td>\n",
       "      <td>F9 v1.0  B0003</td>\n",
       "      <td>CCAFS LC-40</td>\n",
       "      <td>Dragon Spacecraft Qualification Unit</td>\n",
       "      <td>0</td>\n",
       "      <td>LEO</td>\n",
       "      <td>SpaceX</td>\n",
       "      <td>Success</td>\n",
       "      <td>Failure (parachute)</td>\n",
       "    </tr>\n",
       "    <tr>\n",
       "      <th>1</th>\n",
       "      <td>2010-12-08</td>\n",
       "      <td>15:43:00</td>\n",
       "      <td>F9 v1.0  B0004</td>\n",
       "      <td>CCAFS LC-40</td>\n",
       "      <td>Dragon demo flight C1, two CubeSats, barrel of...</td>\n",
       "      <td>0</td>\n",
       "      <td>LEO (ISS)</td>\n",
       "      <td>NASA (COTS) NRO</td>\n",
       "      <td>Success</td>\n",
       "      <td>Failure (parachute)</td>\n",
       "    </tr>\n",
       "    <tr>\n",
       "      <th>2</th>\n",
       "      <td>2012-05-22</td>\n",
       "      <td>7:44:00</td>\n",
       "      <td>F9 v1.0  B0005</td>\n",
       "      <td>CCAFS LC-40</td>\n",
       "      <td>Dragon demo flight C2</td>\n",
       "      <td>525</td>\n",
       "      <td>LEO (ISS)</td>\n",
       "      <td>NASA (COTS)</td>\n",
       "      <td>Success</td>\n",
       "      <td>No attempt</td>\n",
       "    </tr>\n",
       "    <tr>\n",
       "      <th>3</th>\n",
       "      <td>2012-10-08</td>\n",
       "      <td>0:35:00</td>\n",
       "      <td>F9 v1.0  B0006</td>\n",
       "      <td>CCAFS LC-40</td>\n",
       "      <td>SpaceX CRS-1</td>\n",
       "      <td>500</td>\n",
       "      <td>LEO (ISS)</td>\n",
       "      <td>NASA (CRS)</td>\n",
       "      <td>Success</td>\n",
       "      <td>No attempt</td>\n",
       "    </tr>\n",
       "    <tr>\n",
       "      <th>4</th>\n",
       "      <td>2013-03-01</td>\n",
       "      <td>15:10:00</td>\n",
       "      <td>F9 v1.0  B0007</td>\n",
       "      <td>CCAFS LC-40</td>\n",
       "      <td>SpaceX CRS-2</td>\n",
       "      <td>677</td>\n",
       "      <td>LEO (ISS)</td>\n",
       "      <td>NASA (CRS)</td>\n",
       "      <td>Success</td>\n",
       "      <td>No attempt</td>\n",
       "    </tr>\n",
       "    <tr>\n",
       "      <th>...</th>\n",
       "      <td>...</td>\n",
       "      <td>...</td>\n",
       "      <td>...</td>\n",
       "      <td>...</td>\n",
       "      <td>...</td>\n",
       "      <td>...</td>\n",
       "      <td>...</td>\n",
       "      <td>...</td>\n",
       "      <td>...</td>\n",
       "      <td>...</td>\n",
       "    </tr>\n",
       "    <tr>\n",
       "      <th>96</th>\n",
       "      <td>2020-11-05</td>\n",
       "      <td>23:24:23</td>\n",
       "      <td>F9 B5B1062.1</td>\n",
       "      <td>CCAFS SLC-40</td>\n",
       "      <td>GPS III-04 , Crew-1</td>\n",
       "      <td>4311</td>\n",
       "      <td>MEO</td>\n",
       "      <td>USSF</td>\n",
       "      <td>Success</td>\n",
       "      <td>Success</td>\n",
       "    </tr>\n",
       "    <tr>\n",
       "      <th>97</th>\n",
       "      <td>2020-11-16</td>\n",
       "      <td>0:27:00</td>\n",
       "      <td>F9 B5B1061.1</td>\n",
       "      <td>KSC LC-39A</td>\n",
       "      <td>Crew-1, Sentinel-6 Michael Freilich</td>\n",
       "      <td>12500</td>\n",
       "      <td>LEO (ISS)</td>\n",
       "      <td>NASA (CCP)</td>\n",
       "      <td>Success</td>\n",
       "      <td>Success</td>\n",
       "    </tr>\n",
       "    <tr>\n",
       "      <th>98</th>\n",
       "      <td>2020-11-21</td>\n",
       "      <td>17:17:08</td>\n",
       "      <td>F9 B5B1063.1</td>\n",
       "      <td>VAFB SLC-4E</td>\n",
       "      <td>Sentinel-6 Michael Freilich, Starlink 15 v1.0</td>\n",
       "      <td>1192</td>\n",
       "      <td>LEO</td>\n",
       "      <td>NASA / NOAA / ESA / EUMETSAT</td>\n",
       "      <td>Success</td>\n",
       "      <td>Success</td>\n",
       "    </tr>\n",
       "    <tr>\n",
       "      <th>99</th>\n",
       "      <td>2020-11-25</td>\n",
       "      <td>2:13:00</td>\n",
       "      <td>F9 B5 B1049.7</td>\n",
       "      <td>CCAFS SLC-40</td>\n",
       "      <td>Starlink 15 v1.0, SpaceX CRS-21</td>\n",
       "      <td>15600</td>\n",
       "      <td>LEO</td>\n",
       "      <td>SpaceX</td>\n",
       "      <td>Success</td>\n",
       "      <td>Success</td>\n",
       "    </tr>\n",
       "    <tr>\n",
       "      <th>100</th>\n",
       "      <td>2020-12-06</td>\n",
       "      <td>16:17:08</td>\n",
       "      <td>F9 B5 B1058.4</td>\n",
       "      <td>KSC LC-39A</td>\n",
       "      <td>SpaceX CRS-21</td>\n",
       "      <td>2972</td>\n",
       "      <td>LEO (ISS)</td>\n",
       "      <td>NASA (CRS)</td>\n",
       "      <td>Success</td>\n",
       "      <td>Success</td>\n",
       "    </tr>\n",
       "  </tbody>\n",
       "</table>\n",
       "<p>101 rows × 10 columns</p>\n",
       "</div>"
      ],
      "text/plain": [
       "           Date Time (UTC) Booster_Version   Launch_Site  \\\n",
       "0    2010-06-04   18:45:00  F9 v1.0  B0003   CCAFS LC-40   \n",
       "1    2010-12-08   15:43:00  F9 v1.0  B0004   CCAFS LC-40   \n",
       "2    2012-05-22    7:44:00  F9 v1.0  B0005   CCAFS LC-40   \n",
       "3    2012-10-08    0:35:00  F9 v1.0  B0006   CCAFS LC-40   \n",
       "4    2013-03-01   15:10:00  F9 v1.0  B0007   CCAFS LC-40   \n",
       "..          ...        ...             ...           ...   \n",
       "96   2020-11-05   23:24:23    F9 B5B1062.1  CCAFS SLC-40   \n",
       "97   2020-11-16    0:27:00   F9 B5B1061.1     KSC LC-39A   \n",
       "98   2020-11-21   17:17:08    F9 B5B1063.1   VAFB SLC-4E   \n",
       "99   2020-11-25    2:13:00  F9 B5 B1049.7   CCAFS SLC-40   \n",
       "100  2020-12-06   16:17:08  F9 B5 B1058.4     KSC LC-39A   \n",
       "\n",
       "                                               Payload  PAYLOAD_MASS__KG_  \\\n",
       "0                 Dragon Spacecraft Qualification Unit                  0   \n",
       "1    Dragon demo flight C1, two CubeSats, barrel of...                  0   \n",
       "2                                Dragon demo flight C2                525   \n",
       "3                                         SpaceX CRS-1                500   \n",
       "4                                         SpaceX CRS-2                677   \n",
       "..                                                 ...                ...   \n",
       "96                                 GPS III-04 , Crew-1               4311   \n",
       "97                Crew-1, Sentinel-6 Michael Freilich               12500   \n",
       "98      Sentinel-6 Michael Freilich, Starlink 15 v1.0                1192   \n",
       "99                     Starlink 15 v1.0, SpaceX CRS-21              15600   \n",
       "100                                      SpaceX CRS-21               2972   \n",
       "\n",
       "         Orbit                      Customer Mission_Outcome  \\\n",
       "0          LEO                        SpaceX         Success   \n",
       "1    LEO (ISS)               NASA (COTS) NRO         Success   \n",
       "2    LEO (ISS)                   NASA (COTS)         Success   \n",
       "3    LEO (ISS)                    NASA (CRS)         Success   \n",
       "4    LEO (ISS)                    NASA (CRS)         Success   \n",
       "..         ...                           ...             ...   \n",
       "96         MEO                          USSF         Success   \n",
       "97   LEO (ISS)                    NASA (CCP)         Success   \n",
       "98         LEO  NASA / NOAA / ESA / EUMETSAT         Success   \n",
       "99         LEO                        SpaceX         Success   \n",
       "100  LEO (ISS)                    NASA (CRS)         Success   \n",
       "\n",
       "         Landing_Outcome  \n",
       "0    Failure (parachute)  \n",
       "1    Failure (parachute)  \n",
       "2             No attempt  \n",
       "3             No attempt  \n",
       "4             No attempt  \n",
       "..                   ...  \n",
       "96               Success  \n",
       "97               Success  \n",
       "98               Success  \n",
       "99               Success  \n",
       "100              Success  \n",
       "\n",
       "[101 rows x 10 columns]"
      ]
     },
     "execution_count": 8,
     "metadata": {},
     "output_type": "execute_result"
    }
   ],
   "source": [
    "df"
   ]
  },
  {
   "cell_type": "markdown",
   "metadata": {},
   "source": [
    "**Note:This below code is added to remove blank rows from table**\n"
   ]
  },
  {
   "cell_type": "code",
   "execution_count": 9,
   "metadata": {},
   "outputs": [
    {
     "name": "stdout",
     "output_type": "stream",
     "text": [
      " * sqlite:///my_data1.db\n",
      "Done.\n"
     ]
    },
    {
     "data": {
      "text/plain": [
       "[]"
      ]
     },
     "execution_count": 9,
     "metadata": {},
     "output_type": "execute_result"
    }
   ],
   "source": [
    "%sql create table SPACEXTABLE as select * from SPACEXTBL where Date is not null"
   ]
  },
  {
   "cell_type": "markdown",
   "metadata": {},
   "source": [
    "## Tasks\n",
    "\n",
    "Now write and execute SQL queries to solve the assignment tasks.\n",
    "\n",
    "**Note: If the column names are in mixed case enclose it in double quotes\n",
    "   For Example \"Landing_Outcome\"**\n",
    "\n",
    "### Task 1\n",
    "\n",
    "\n",
    "\n",
    "\n",
    "##### Display the names of the unique launch sites  in the space mission\n"
   ]
  },
  {
   "cell_type": "code",
   "execution_count": 12,
   "metadata": {},
   "outputs": [
    {
     "name": "stdout",
     "output_type": "stream",
     "text": [
      " * sqlite:///my_data1.db\n",
      "Done.\n"
     ]
    },
    {
     "data": {
      "text/html": [
       "<table>\n",
       "    <thead>\n",
       "        <tr>\n",
       "            <th>Launch_Site</th>\n",
       "        </tr>\n",
       "    </thead>\n",
       "    <tbody>\n",
       "        <tr>\n",
       "            <td>CCAFS LC-40</td>\n",
       "        </tr>\n",
       "        <tr>\n",
       "            <td>VAFB SLC-4E</td>\n",
       "        </tr>\n",
       "        <tr>\n",
       "            <td>KSC LC-39A</td>\n",
       "        </tr>\n",
       "        <tr>\n",
       "            <td>CCAFS SLC-40</td>\n",
       "        </tr>\n",
       "    </tbody>\n",
       "</table>"
      ],
      "text/plain": [
       "[('CCAFS LC-40',), ('VAFB SLC-4E',), ('KSC LC-39A',), ('CCAFS SLC-40',)]"
      ]
     },
     "execution_count": 12,
     "metadata": {},
     "output_type": "execute_result"
    }
   ],
   "source": [
    "%sql SELECT DISTINCT Launch_Site FROM SPACEXTBL # Aquí utilizo DISTINCT, para que me muestre sin repetir"
   ]
  },
  {
   "cell_type": "markdown",
   "metadata": {},
   "source": [
    "\n",
    "### Task 2\n",
    "\n",
    "\n",
    "#####  Display 5 records where launch sites begin with the string 'CCA' \n"
   ]
  },
  {
   "cell_type": "code",
   "execution_count": 14,
   "metadata": {},
   "outputs": [
    {
     "name": "stdout",
     "output_type": "stream",
     "text": [
      " * sqlite:///my_data1.db\n",
      "Done.\n"
     ]
    },
    {
     "data": {
      "text/html": [
       "<table>\n",
       "    <thead>\n",
       "        <tr>\n",
       "            <th>Date</th>\n",
       "            <th>Time (UTC)</th>\n",
       "            <th>Booster_Version</th>\n",
       "            <th>Launch_Site</th>\n",
       "            <th>Payload</th>\n",
       "            <th>PAYLOAD_MASS__KG_</th>\n",
       "            <th>Orbit</th>\n",
       "            <th>Customer</th>\n",
       "            <th>Mission_Outcome</th>\n",
       "            <th>Landing_Outcome</th>\n",
       "        </tr>\n",
       "    </thead>\n",
       "    <tbody>\n",
       "        <tr>\n",
       "            <td>2010-06-04</td>\n",
       "            <td>18:45:00</td>\n",
       "            <td>F9 v1.0  B0003</td>\n",
       "            <td>CCAFS LC-40</td>\n",
       "            <td>Dragon Spacecraft Qualification Unit</td>\n",
       "            <td>0</td>\n",
       "            <td>LEO</td>\n",
       "            <td>SpaceX</td>\n",
       "            <td>Success</td>\n",
       "            <td>Failure (parachute)</td>\n",
       "        </tr>\n",
       "        <tr>\n",
       "            <td>2010-12-08</td>\n",
       "            <td>15:43:00</td>\n",
       "            <td>F9 v1.0  B0004</td>\n",
       "            <td>CCAFS LC-40</td>\n",
       "            <td>Dragon demo flight C1, two CubeSats, barrel of Brouere cheese</td>\n",
       "            <td>0</td>\n",
       "            <td>LEO (ISS)</td>\n",
       "            <td>NASA (COTS) NRO</td>\n",
       "            <td>Success</td>\n",
       "            <td>Failure (parachute)</td>\n",
       "        </tr>\n",
       "        <tr>\n",
       "            <td>2012-05-22</td>\n",
       "            <td>7:44:00</td>\n",
       "            <td>F9 v1.0  B0005</td>\n",
       "            <td>CCAFS LC-40</td>\n",
       "            <td>Dragon demo flight C2</td>\n",
       "            <td>525</td>\n",
       "            <td>LEO (ISS)</td>\n",
       "            <td>NASA (COTS)</td>\n",
       "            <td>Success</td>\n",
       "            <td>No attempt</td>\n",
       "        </tr>\n",
       "        <tr>\n",
       "            <td>2012-10-08</td>\n",
       "            <td>0:35:00</td>\n",
       "            <td>F9 v1.0  B0006</td>\n",
       "            <td>CCAFS LC-40</td>\n",
       "            <td>SpaceX CRS-1</td>\n",
       "            <td>500</td>\n",
       "            <td>LEO (ISS)</td>\n",
       "            <td>NASA (CRS)</td>\n",
       "            <td>Success</td>\n",
       "            <td>No attempt</td>\n",
       "        </tr>\n",
       "        <tr>\n",
       "            <td>2013-03-01</td>\n",
       "            <td>15:10:00</td>\n",
       "            <td>F9 v1.0  B0007</td>\n",
       "            <td>CCAFS LC-40</td>\n",
       "            <td>SpaceX CRS-2</td>\n",
       "            <td>677</td>\n",
       "            <td>LEO (ISS)</td>\n",
       "            <td>NASA (CRS)</td>\n",
       "            <td>Success</td>\n",
       "            <td>No attempt</td>\n",
       "        </tr>\n",
       "    </tbody>\n",
       "</table>"
      ],
      "text/plain": [
       "[('2010-06-04', '18:45:00', 'F9 v1.0  B0003', 'CCAFS LC-40', 'Dragon Spacecraft Qualification Unit', 0, 'LEO', 'SpaceX', 'Success', 'Failure (parachute)'),\n",
       " ('2010-12-08', '15:43:00', 'F9 v1.0  B0004', 'CCAFS LC-40', 'Dragon demo flight C1, two CubeSats, barrel of Brouere cheese', 0, 'LEO (ISS)', 'NASA (COTS) NRO', 'Success', 'Failure (parachute)'),\n",
       " ('2012-05-22', '7:44:00', 'F9 v1.0  B0005', 'CCAFS LC-40', 'Dragon demo flight C2', 525, 'LEO (ISS)', 'NASA (COTS)', 'Success', 'No attempt'),\n",
       " ('2012-10-08', '0:35:00', 'F9 v1.0  B0006', 'CCAFS LC-40', 'SpaceX CRS-1', 500, 'LEO (ISS)', 'NASA (CRS)', 'Success', 'No attempt'),\n",
       " ('2013-03-01', '15:10:00', 'F9 v1.0  B0007', 'CCAFS LC-40', 'SpaceX CRS-2', 677, 'LEO (ISS)', 'NASA (CRS)', 'Success', 'No attempt')]"
      ]
     },
     "execution_count": 14,
     "metadata": {},
     "output_type": "execute_result"
    }
   ],
   "source": [
    "%sql SELECT *  FROM SPACEXTBL WHERE Launch_Site LIKE 'CCA%' LIMIT 5"
   ]
  },
  {
   "cell_type": "markdown",
   "metadata": {},
   "source": [
    "### Task 3\n",
    "\n",
    "\n",
    "\n",
    "\n",
    "##### Display the total payload mass carried by boosters launched by NASA (CRS)\n"
   ]
  },
  {
   "cell_type": "code",
   "execution_count": 30,
   "metadata": {},
   "outputs": [
    {
     "name": "stdout",
     "output_type": "stream",
     "text": [
      " * sqlite:///my_data1.db\n",
      "Done.\n"
     ]
    },
    {
     "data": {
      "text/html": [
       "<table>\n",
       "    <thead>\n",
       "        <tr>\n",
       "            <th>Customer</th>\n",
       "            <th>sum(PAYLOAD_MASS__KG_)</th>\n",
       "        </tr>\n",
       "    </thead>\n",
       "    <tbody>\n",
       "        <tr>\n",
       "            <td>NASA (CRS)</td>\n",
       "            <td>45596</td>\n",
       "        </tr>\n",
       "    </tbody>\n",
       "</table>"
      ],
      "text/plain": [
       "[('NASA (CRS)', 45596)]"
      ]
     },
     "execution_count": 30,
     "metadata": {},
     "output_type": "execute_result"
    }
   ],
   "source": [
    "%sql Select Customer, sum(PAYLOAD_MASS__KG_) from SPACEXTBL where Customer LIKE 'NASA (CRS)'"
   ]
  },
  {
   "cell_type": "code",
   "execution_count": 29,
   "metadata": {},
   "outputs": [
    {
     "name": "stdout",
     "output_type": "stream",
     "text": [
      " * sqlite:///my_data1.db\n",
      "Done.\n"
     ]
    },
    {
     "data": {
      "text/html": [
       "<table>\n",
       "    <thead>\n",
       "        <tr>\n",
       "            <th>Customer</th>\n",
       "            <th>Total Payload Mass(Kgs)</th>\n",
       "        </tr>\n",
       "    </thead>\n",
       "    <tbody>\n",
       "        <tr>\n",
       "            <td>NASA (CCD) </td>\n",
       "            <td>12055</td>\n",
       "        </tr>\n",
       "        <tr>\n",
       "            <td>NASA (CCDev)</td>\n",
       "            <td>12530</td>\n",
       "        </tr>\n",
       "        <tr>\n",
       "            <td>NASA (CCP)</td>\n",
       "            <td>12500</td>\n",
       "        </tr>\n",
       "        <tr>\n",
       "            <td>NASA (COTS)</td>\n",
       "            <td>525</td>\n",
       "        </tr>\n",
       "        <tr>\n",
       "            <td>NASA (COTS) NRO</td>\n",
       "            <td>0</td>\n",
       "        </tr>\n",
       "        <tr>\n",
       "            <td>NASA (CRS)</td>\n",
       "            <td>45596</td>\n",
       "        </tr>\n",
       "        <tr>\n",
       "            <td>NASA (CRS), Kacific 1</td>\n",
       "            <td>2617</td>\n",
       "        </tr>\n",
       "        <tr>\n",
       "            <td>NASA (CTS)</td>\n",
       "            <td>12050</td>\n",
       "        </tr>\n",
       "        <tr>\n",
       "            <td>NASA (LSP)</td>\n",
       "            <td>362</td>\n",
       "        </tr>\n",
       "        <tr>\n",
       "            <td>NASA (LSP) NOAA CNES</td>\n",
       "            <td>553</td>\n",
       "        </tr>\n",
       "        <tr>\n",
       "            <td>NASA / NOAA / ESA / EUMETSAT</td>\n",
       "            <td>1192</td>\n",
       "        </tr>\n",
       "    </tbody>\n",
       "</table>"
      ],
      "text/plain": [
       "[('NASA (CCD) ', 12055),\n",
       " ('NASA (CCDev)', 12530),\n",
       " ('NASA (CCP)', 12500),\n",
       " ('NASA (COTS)', 525),\n",
       " ('NASA (COTS) NRO', 0),\n",
       " ('NASA (CRS)', 45596),\n",
       " ('NASA (CRS), Kacific 1', 2617),\n",
       " ('NASA (CTS)', 12050),\n",
       " ('NASA (LSP)', 362),\n",
       " ('NASA (LSP) NOAA CNES', 553),\n",
       " ('NASA / NOAA / ESA / EUMETSAT', 1192)]"
      ]
     },
     "execution_count": 29,
     "metadata": {},
     "output_type": "execute_result"
    }
   ],
   "source": [
    "%%sql SELECT Customer, SUM(PAYLOAD_MASS__KG_) as 'Total Payload Mass(Kgs)'\n",
    "FROM SPACEXTBL\n",
    "WHERE Customer LIKE 'NASA%'\n",
    "GROUP BY Customer;"
   ]
  },
  {
   "cell_type": "markdown",
   "metadata": {},
   "source": [
    "### Task 4\n",
    "\n",
    "\n",
    "\n",
    "\n",
    "##### Display average payload mass carried by booster version F9 v1.1\n"
   ]
  },
  {
   "cell_type": "code",
   "execution_count": 35,
   "metadata": {},
   "outputs": [
    {
     "name": "stdout",
     "output_type": "stream",
     "text": [
      " * sqlite:///my_data1.db\n",
      "Done.\n"
     ]
    },
    {
     "data": {
      "text/html": [
       "<table>\n",
       "    <thead>\n",
       "        <tr>\n",
       "            <th>Booster_Version</th>\n",
       "            <th>AVG Payload Mass(Kgs)</th>\n",
       "        </tr>\n",
       "    </thead>\n",
       "    <tbody>\n",
       "        <tr>\n",
       "            <td>F9 v1.1</td>\n",
       "            <td>2928.4</td>\n",
       "        </tr>\n",
       "    </tbody>\n",
       "</table>"
      ],
      "text/plain": [
       "[('F9 v1.1', 2928.4)]"
      ]
     },
     "execution_count": 35,
     "metadata": {},
     "output_type": "execute_result"
    }
   ],
   "source": [
    "%%sql SELECT Booster_Version, AVG(PAYLOAD_MASS__KG_) as 'AVG Payload Mass(Kgs)'\n",
    "FROM SPACEXTBL\n",
    "WHERE Booster_Version LIKE 'F9 v1.1';"
   ]
  },
  {
   "cell_type": "code",
   "execution_count": 39,
   "metadata": {},
   "outputs": [
    {
     "name": "stdout",
     "output_type": "stream",
     "text": [
      " * sqlite:///my_data1.db\n",
      "Done.\n"
     ]
    },
    {
     "data": {
      "text/html": [
       "<table>\n",
       "    <thead>\n",
       "        <tr>\n",
       "            <th>Payload Mass Kgs</th>\n",
       "            <th>Customer</th>\n",
       "            <th>Booster_Version</th>\n",
       "        </tr>\n",
       "    </thead>\n",
       "    <tbody>\n",
       "        <tr>\n",
       "            <td>2534.6666666666665</td>\n",
       "            <td>MDA</td>\n",
       "            <td>F9 v1.1  B1003</td>\n",
       "        </tr>\n",
       "    </tbody>\n",
       "</table>"
      ],
      "text/plain": [
       "[(2534.6666666666665, 'MDA', 'F9 v1.1  B1003')]"
      ]
     },
     "execution_count": 39,
     "metadata": {},
     "output_type": "execute_result"
    }
   ],
   "source": [
    "%%sql SELECT AVG(PAYLOAD_MASS__KG_) as 'Payload Mass Kgs', Customer, Booster_Version \n",
    "FROM 'SPACEXTBL' \n",
    "WHERE Booster_Version LIKE 'F9 v1.1%';\n"
   ]
  },
  {
   "cell_type": "markdown",
   "metadata": {},
   "source": [
    "### Task 5\n",
    "\n",
    "##### List the date when the first succesful landing outcome in ground pad was acheived.\n",
    "\n",
    "\n",
    "_Hint:Use min function_ \n"
   ]
  },
  {
   "cell_type": "code",
   "execution_count": 41,
   "metadata": {},
   "outputs": [
    {
     "name": "stdout",
     "output_type": "stream",
     "text": [
      " * sqlite:///my_data1.db\n",
      "Done.\n"
     ]
    },
    {
     "data": {
      "text/html": [
       "<table>\n",
       "    <thead>\n",
       "        <tr>\n",
       "            <th>MIN(Date)</th>\n",
       "        </tr>\n",
       "    </thead>\n",
       "    <tbody>\n",
       "        <tr>\n",
       "            <td>2015-12-22</td>\n",
       "        </tr>\n",
       "    </tbody>\n",
       "</table>"
      ],
      "text/plain": [
       "[('2015-12-22',)]"
      ]
     },
     "execution_count": 41,
     "metadata": {},
     "output_type": "execute_result"
    }
   ],
   "source": [
    "%%sql SELECT MIN(Date) \n",
    "FROM 'SPACEXTBL' \n",
    "WHERE Landing_Outcome LIKE 'Success (ground pad)';"
   ]
  },
  {
   "cell_type": "markdown",
   "metadata": {},
   "source": [
    "### Task 6\n",
    "\n",
    "##### List the names of the boosters which have success in drone ship and have payload mass greater than 4000 but less than 6000\n"
   ]
  },
  {
   "cell_type": "code",
   "execution_count": 73,
   "metadata": {},
   "outputs": [
    {
     "name": "stdout",
     "output_type": "stream",
     "text": [
      " * sqlite:///my_data1.db\n",
      "Done.\n"
     ]
    },
    {
     "data": {
      "text/html": [
       "<table>\n",
       "    <thead>\n",
       "        <tr>\n",
       "            <th>Booster_Version</th>\n",
       "            <th>PAYLOAD_MASS__KG_</th>\n",
       "        </tr>\n",
       "    </thead>\n",
       "    <tbody>\n",
       "        <tr>\n",
       "            <td>F9 FT B1022</td>\n",
       "            <td>4696</td>\n",
       "        </tr>\n",
       "        <tr>\n",
       "            <td>F9 FT B1026</td>\n",
       "            <td>4600</td>\n",
       "        </tr>\n",
       "        <tr>\n",
       "            <td>F9 FT  B1021.2</td>\n",
       "            <td>5300</td>\n",
       "        </tr>\n",
       "        <tr>\n",
       "            <td>F9 FT  B1031.2</td>\n",
       "            <td>5200</td>\n",
       "        </tr>\n",
       "    </tbody>\n",
       "</table>"
      ],
      "text/plain": [
       "[('F9 FT B1022', 4696),\n",
       " ('F9 FT B1026', 4600),\n",
       " ('F9 FT  B1021.2', 5300),\n",
       " ('F9 FT  B1031.2', 5200)]"
      ]
     },
     "execution_count": 73,
     "metadata": {},
     "output_type": "execute_result"
    }
   ],
   "source": [
    "%%sql SELECT Booster_Version, PAYLOAD_MASS__KG_\n",
    "FROM SPACEXTBL\n",
    "WHERE Landing_Outcome LIKE 'Success (drone ship)'\n",
    "AND PAYLOAD_MASS__KG_ BETWEEN 4000 AND 6000;\n",
    "\n"
   ]
  },
  {
   "cell_type": "code",
   "execution_count": 74,
   "metadata": {},
   "outputs": [
    {
     "name": "stdout",
     "output_type": "stream",
     "text": [
      " * sqlite:///my_data1.db\n",
      "Done.\n"
     ]
    },
    {
     "data": {
      "text/html": [
       "<table>\n",
       "    <thead>\n",
       "        <tr>\n",
       "            <th>Booster_Version</th>\n",
       "            <th>PAYLOAD_MASS__KG_</th>\n",
       "        </tr>\n",
       "    </thead>\n",
       "    <tbody>\n",
       "        <tr>\n",
       "            <td>F9 FT B1022</td>\n",
       "            <td>4696</td>\n",
       "        </tr>\n",
       "        <tr>\n",
       "            <td>F9 FT B1026</td>\n",
       "            <td>4600</td>\n",
       "        </tr>\n",
       "        <tr>\n",
       "            <td>F9 FT  B1021.2</td>\n",
       "            <td>5300</td>\n",
       "        </tr>\n",
       "        <tr>\n",
       "            <td>F9 FT  B1031.2</td>\n",
       "            <td>5200</td>\n",
       "        </tr>\n",
       "    </tbody>\n",
       "</table>"
      ],
      "text/plain": [
       "[('F9 FT B1022', 4696),\n",
       " ('F9 FT B1026', 4600),\n",
       " ('F9 FT  B1021.2', 5300),\n",
       " ('F9 FT  B1031.2', 5200)]"
      ]
     },
     "execution_count": 74,
     "metadata": {},
     "output_type": "execute_result"
    }
   ],
   "source": [
    "%%sql SELECT DISTINCT Booster_Version, PAYLOAD_MASS__KG_\n",
    "FROM SPACEXTBL\n",
    "WHERE Landing_Outcome LIKE 'Success (drone ship)'\n",
    "AND PAYLOAD_MASS__KG_ > 4000\n",
    "AND PAYLOAD_MASS__KG_ < 6000;\n",
    "\n"
   ]
  },
  {
   "cell_type": "markdown",
   "metadata": {},
   "source": [
    "### Task 7\n",
    "\n",
    "\n",
    "\n",
    "\n",
    "##### List the total number of successful and failure mission outcomes\n"
   ]
  },
  {
   "cell_type": "code",
   "execution_count": 82,
   "metadata": {},
   "outputs": [
    {
     "name": "stdout",
     "output_type": "stream",
     "text": [
      " * sqlite:///my_data1.db\n",
      "Done.\n"
     ]
    },
    {
     "data": {
      "text/html": [
       "<table>\n",
       "    <thead>\n",
       "        <tr>\n",
       "            <th>Mission_Outcome</th>\n",
       "            <th>count(Mission_Outcome)</th>\n",
       "        </tr>\n",
       "    </thead>\n",
       "    <tbody>\n",
       "        <tr>\n",
       "            <td>Failure (in flight)</td>\n",
       "            <td>1</td>\n",
       "        </tr>\n",
       "        <tr>\n",
       "            <td>Success</td>\n",
       "            <td>98</td>\n",
       "        </tr>\n",
       "        <tr>\n",
       "            <td>Success </td>\n",
       "            <td>1</td>\n",
       "        </tr>\n",
       "        <tr>\n",
       "            <td>Success (payload status unclear)</td>\n",
       "            <td>1</td>\n",
       "        </tr>\n",
       "    </tbody>\n",
       "</table>"
      ],
      "text/plain": [
       "[('Failure (in flight)', 1),\n",
       " ('Success', 98),\n",
       " ('Success ', 1),\n",
       " ('Success (payload status unclear)', 1)]"
      ]
     },
     "execution_count": 82,
     "metadata": {},
     "output_type": "execute_result"
    }
   ],
   "source": [
    "%%sql SELECT Mission_Outcome, count(Mission_Outcome)\n",
    "FROM SPACEXTBL\n",
    "Group by Mission_Outcome"
   ]
  },
  {
   "cell_type": "markdown",
   "metadata": {},
   "source": [
    "### Task 8\n",
    "\n",
    "\n",
    "\n",
    "##### List the   names of the booster_versions which have carried the maximum payload mass. Use a subquery\n"
   ]
  },
  {
   "cell_type": "code",
   "execution_count": 86,
   "metadata": {},
   "outputs": [
    {
     "name": "stdout",
     "output_type": "stream",
     "text": [
      " * sqlite:///my_data1.db\n",
      "Done.\n"
     ]
    },
    {
     "data": {
      "text/html": [
       "<table>\n",
       "    <thead>\n",
       "        <tr>\n",
       "            <th>Booster_Version</th>\n",
       "            <th>Payload</th>\n",
       "            <th>PAYLOAD_MASS__KG_</th>\n",
       "        </tr>\n",
       "    </thead>\n",
       "    <tbody>\n",
       "        <tr>\n",
       "            <td>F9 B5 B1048.4</td>\n",
       "            <td>Starlink 1 v1.0, SpaceX CRS-19 </td>\n",
       "            <td>15600</td>\n",
       "        </tr>\n",
       "        <tr>\n",
       "            <td>F9 B5 B1049.4</td>\n",
       "            <td>Starlink 2 v1.0, Crew Dragon in-flight abort test </td>\n",
       "            <td>15600</td>\n",
       "        </tr>\n",
       "        <tr>\n",
       "            <td>F9 B5 B1051.3</td>\n",
       "            <td>Starlink 3 v1.0, Starlink 4 v1.0 </td>\n",
       "            <td>15600</td>\n",
       "        </tr>\n",
       "        <tr>\n",
       "            <td>F9 B5 B1056.4</td>\n",
       "            <td>Starlink 4 v1.0, SpaceX CRS-20</td>\n",
       "            <td>15600</td>\n",
       "        </tr>\n",
       "        <tr>\n",
       "            <td>F9 B5 B1048.5</td>\n",
       "            <td>Starlink 5 v1.0, Starlink 6 v1.0 </td>\n",
       "            <td>15600</td>\n",
       "        </tr>\n",
       "        <tr>\n",
       "            <td>F9 B5 B1051.4</td>\n",
       "            <td>Starlink 6 v1.0, Crew Dragon Demo-2 </td>\n",
       "            <td>15600</td>\n",
       "        </tr>\n",
       "        <tr>\n",
       "            <td>F9 B5 B1049.5</td>\n",
       "            <td>Starlink 7 v1.0, Starlink 8 v1.0</td>\n",
       "            <td>15600</td>\n",
       "        </tr>\n",
       "        <tr>\n",
       "            <td>F9 B5 B1060.2 </td>\n",
       "            <td>Starlink 11 v1.0, Starlink 12 v1.0 </td>\n",
       "            <td>15600</td>\n",
       "        </tr>\n",
       "        <tr>\n",
       "            <td>F9 B5 B1058.3 </td>\n",
       "            <td>Starlink 12 v1.0, Starlink 13 v1.0 </td>\n",
       "            <td>15600</td>\n",
       "        </tr>\n",
       "        <tr>\n",
       "            <td>F9 B5 B1051.6</td>\n",
       "            <td>Starlink 13 v1.0, Starlink 14 v1.0 </td>\n",
       "            <td>15600</td>\n",
       "        </tr>\n",
       "        <tr>\n",
       "            <td>F9 B5 B1060.3</td>\n",
       "            <td>Starlink 14 v1.0, GPS III-04  </td>\n",
       "            <td>15600</td>\n",
       "        </tr>\n",
       "        <tr>\n",
       "            <td>F9 B5 B1049.7 </td>\n",
       "            <td>Starlink 15 v1.0, SpaceX CRS-21</td>\n",
       "            <td>15600</td>\n",
       "        </tr>\n",
       "    </tbody>\n",
       "</table>"
      ],
      "text/plain": [
       "[('F9 B5 B1048.4', 'Starlink 1 v1.0, SpaceX CRS-19 ', 15600),\n",
       " ('F9 B5 B1049.4', 'Starlink 2 v1.0, Crew Dragon in-flight abort test ', 15600),\n",
       " ('F9 B5 B1051.3', 'Starlink 3 v1.0, Starlink 4 v1.0 ', 15600),\n",
       " ('F9 B5 B1056.4', 'Starlink 4 v1.0, SpaceX CRS-20', 15600),\n",
       " ('F9 B5 B1048.5', 'Starlink 5 v1.0, Starlink 6 v1.0 ', 15600),\n",
       " ('F9 B5 B1051.4', 'Starlink 6 v1.0, Crew Dragon Demo-2 ', 15600),\n",
       " ('F9 B5 B1049.5', 'Starlink 7 v1.0, Starlink 8 v1.0', 15600),\n",
       " ('F9 B5 B1060.2 ', 'Starlink 11 v1.0, Starlink 12 v1.0 ', 15600),\n",
       " ('F9 B5 B1058.3 ', 'Starlink 12 v1.0, Starlink 13 v1.0 ', 15600),\n",
       " ('F9 B5 B1051.6', 'Starlink 13 v1.0, Starlink 14 v1.0 ', 15600),\n",
       " ('F9 B5 B1060.3', 'Starlink 14 v1.0, GPS III-04  ', 15600),\n",
       " ('F9 B5 B1049.7 ', 'Starlink 15 v1.0, SpaceX CRS-21', 15600)]"
      ]
     },
     "execution_count": 86,
     "metadata": {},
     "output_type": "execute_result"
    }
   ],
   "source": [
    "%%sql SELECT Booster_Version, Payload, PAYLOAD_MASS__KG_\n",
    "FROM SPACEXTBL \n",
    "WHERE PAYLOAD_MASS__KG_ = (SELECT MAX(PAYLOAD_MASS__KG_) FROM SPACEXTBL)"
   ]
  },
  {
   "cell_type": "markdown",
   "metadata": {},
   "source": [
    "### Task 9\n",
    "\n",
    "\n",
    "##### List the records which will display the month names, failure landing_outcomes in drone ship ,booster versions, launch_site for the months in year 2015.\n",
    "\n",
    "**Note: SQLLite does not support monthnames. So you need to use  substr(Date, 6,2) as month to get the months and substr(Date,0,5)='2015' for year.**\n"
   ]
  },
  {
   "cell_type": "code",
   "execution_count": 98,
   "metadata": {},
   "outputs": [
    {
     "name": "stdout",
     "output_type": "stream",
     "text": [
      " * sqlite:///my_data1.db\n",
      "Done.\n"
     ]
    },
    {
     "data": {
      "text/html": [
       "<table>\n",
       "    <thead>\n",
       "        <tr>\n",
       "            <th>substr(Date,0,5)</th>\n",
       "            <th>substr(Date, 6, 2)</th>\n",
       "            <th>Booster_Version</th>\n",
       "            <th>Launch_Site</th>\n",
       "            <th>Payload</th>\n",
       "            <th>PAYLOAD_MASS__KG_</th>\n",
       "            <th>Mission_Outcome</th>\n",
       "            <th>Landing_Outcome</th>\n",
       "        </tr>\n",
       "    </thead>\n",
       "    <tbody>\n",
       "        <tr>\n",
       "            <td>2015</td>\n",
       "            <td>01</td>\n",
       "            <td>F9 v1.1 B1012</td>\n",
       "            <td>CCAFS LC-40</td>\n",
       "            <td>SpaceX CRS-5</td>\n",
       "            <td>2395</td>\n",
       "            <td>Success</td>\n",
       "            <td>Failure (drone ship)</td>\n",
       "        </tr>\n",
       "        <tr>\n",
       "            <td>2015</td>\n",
       "            <td>04</td>\n",
       "            <td>F9 v1.1 B1015</td>\n",
       "            <td>CCAFS LC-40</td>\n",
       "            <td>SpaceX CRS-6</td>\n",
       "            <td>1898</td>\n",
       "            <td>Success</td>\n",
       "            <td>Failure (drone ship)</td>\n",
       "        </tr>\n",
       "    </tbody>\n",
       "</table>"
      ],
      "text/plain": [
       "[('2015', '01', 'F9 v1.1 B1012', 'CCAFS LC-40', 'SpaceX CRS-5', 2395, 'Success', 'Failure (drone ship)'),\n",
       " ('2015', '04', 'F9 v1.1 B1015', 'CCAFS LC-40', 'SpaceX CRS-6', 1898, 'Success', 'Failure (drone ship)')]"
      ]
     },
     "execution_count": 98,
     "metadata": {},
     "output_type": "execute_result"
    }
   ],
   "source": [
    "%%sql SELECT substr(Date,0,5), substr(Date, 6, 2), Booster_Version, Launch_Site, Payload, PAYLOAD_MASS__KG_, Mission_Outcome, Landing_Outcome \n",
    "FROM SPACEXTBL \n",
    "WHERE substr(Date,0,5)='2015' AND Landing_Outcome = 'Failure (drone ship)';\n",
    "\n"
   ]
  },
  {
   "cell_type": "markdown",
   "metadata": {},
   "source": [
    "### Task 10\n",
    "\n",
    "\n",
    "\n",
    "\n",
    "##### Rank the count of landing outcomes (such as Failure (drone ship) or Success (ground pad)) between the date 2010-06-04 and 2017-03-20, in descending order.\n"
   ]
  },
  {
   "cell_type": "code",
   "execution_count": 108,
   "metadata": {},
   "outputs": [
    {
     "name": "stdout",
     "output_type": "stream",
     "text": [
      " * sqlite:///my_data1.db\n",
      "Done.\n"
     ]
    },
    {
     "data": {
      "text/html": [
       "<table>\n",
       "    <thead>\n",
       "        <tr>\n",
       "            <th>Date</th>\n",
       "            <th>Time (UTC)</th>\n",
       "            <th>Booster_Version</th>\n",
       "            <th>Launch_Site</th>\n",
       "            <th>Payload</th>\n",
       "            <th>PAYLOAD_MASS__KG_</th>\n",
       "            <th>Orbit</th>\n",
       "            <th>Customer</th>\n",
       "            <th>Mission_Outcome</th>\n",
       "            <th>Landing_Outcome</th>\n",
       "        </tr>\n",
       "    </thead>\n",
       "    <tbody>\n",
       "        <tr>\n",
       "            <td>2017-02-19</td>\n",
       "            <td>14:39:00</td>\n",
       "            <td>F9 FT B1031.1</td>\n",
       "            <td>KSC LC-39A</td>\n",
       "            <td>SpaceX CRS-10</td>\n",
       "            <td>2490</td>\n",
       "            <td>LEO (ISS)</td>\n",
       "            <td>NASA (CRS)</td>\n",
       "            <td>Success</td>\n",
       "            <td>Success (ground pad)</td>\n",
       "        </tr>\n",
       "        <tr>\n",
       "            <td>2017-01-14</td>\n",
       "            <td>17:54:00</td>\n",
       "            <td>F9 FT B1029.1</td>\n",
       "            <td>VAFB SLC-4E</td>\n",
       "            <td>Iridium NEXT 1</td>\n",
       "            <td>9600</td>\n",
       "            <td>Polar LEO</td>\n",
       "            <td>Iridium Communications</td>\n",
       "            <td>Success</td>\n",
       "            <td>Success (drone ship)</td>\n",
       "        </tr>\n",
       "        <tr>\n",
       "            <td>2016-08-14</td>\n",
       "            <td>5:26:00</td>\n",
       "            <td>F9 FT B1026</td>\n",
       "            <td>CCAFS LC-40</td>\n",
       "            <td>JCSAT-16</td>\n",
       "            <td>4600</td>\n",
       "            <td>GTO</td>\n",
       "            <td>SKY Perfect JSAT Group</td>\n",
       "            <td>Success</td>\n",
       "            <td>Success (drone ship)</td>\n",
       "        </tr>\n",
       "        <tr>\n",
       "            <td>2016-07-18</td>\n",
       "            <td>4:45:00</td>\n",
       "            <td>F9 FT B1025.1</td>\n",
       "            <td>CCAFS LC-40</td>\n",
       "            <td>SpaceX CRS-9</td>\n",
       "            <td>2257</td>\n",
       "            <td>LEO (ISS)</td>\n",
       "            <td>NASA (CRS)</td>\n",
       "            <td>Success</td>\n",
       "            <td>Success (ground pad)</td>\n",
       "        </tr>\n",
       "        <tr>\n",
       "            <td>2016-05-27</td>\n",
       "            <td>21:39:00</td>\n",
       "            <td>F9 FT B1023.1</td>\n",
       "            <td>CCAFS LC-40</td>\n",
       "            <td>Thaicom 8</td>\n",
       "            <td>3100</td>\n",
       "            <td>GTO</td>\n",
       "            <td>Thaicom</td>\n",
       "            <td>Success</td>\n",
       "            <td>Success (drone ship)</td>\n",
       "        </tr>\n",
       "        <tr>\n",
       "            <td>2016-05-06</td>\n",
       "            <td>5:21:00</td>\n",
       "            <td>F9 FT B1022</td>\n",
       "            <td>CCAFS LC-40</td>\n",
       "            <td>JCSAT-14</td>\n",
       "            <td>4696</td>\n",
       "            <td>GTO</td>\n",
       "            <td>SKY Perfect JSAT Group</td>\n",
       "            <td>Success</td>\n",
       "            <td>Success (drone ship)</td>\n",
       "        </tr>\n",
       "        <tr>\n",
       "            <td>2016-04-08</td>\n",
       "            <td>20:43:00</td>\n",
       "            <td>F9 FT B1021.1</td>\n",
       "            <td>CCAFS LC-40</td>\n",
       "            <td>SpaceX CRS-8</td>\n",
       "            <td>3136</td>\n",
       "            <td>LEO (ISS)</td>\n",
       "            <td>NASA (CRS)</td>\n",
       "            <td>Success</td>\n",
       "            <td>Success (drone ship)</td>\n",
       "        </tr>\n",
       "        <tr>\n",
       "            <td>2015-12-22</td>\n",
       "            <td>1:29:00</td>\n",
       "            <td>F9 FT B1019</td>\n",
       "            <td>CCAFS LC-40</td>\n",
       "            <td>OG2 Mission 2  11 Orbcomm-OG2 satellites</td>\n",
       "            <td>2034</td>\n",
       "            <td>LEO</td>\n",
       "            <td>Orbcomm</td>\n",
       "            <td>Success</td>\n",
       "            <td>Success (ground pad)</td>\n",
       "        </tr>\n",
       "    </tbody>\n",
       "</table>"
      ],
      "text/plain": [
       "[('2017-02-19', '14:39:00', 'F9 FT B1031.1', 'KSC LC-39A', 'SpaceX CRS-10', 2490, 'LEO (ISS)', 'NASA (CRS)', 'Success', 'Success (ground pad)'),\n",
       " ('2017-01-14', '17:54:00', 'F9 FT B1029.1', 'VAFB SLC-4E', 'Iridium NEXT 1', 9600, 'Polar LEO', 'Iridium Communications', 'Success', 'Success (drone ship)'),\n",
       " ('2016-08-14', '5:26:00', 'F9 FT B1026', 'CCAFS LC-40', 'JCSAT-16', 4600, 'GTO', 'SKY Perfect JSAT Group', 'Success', 'Success (drone ship)'),\n",
       " ('2016-07-18', '4:45:00', 'F9 FT B1025.1', 'CCAFS LC-40', 'SpaceX CRS-9', 2257, 'LEO (ISS)', 'NASA (CRS)', 'Success', 'Success (ground pad)'),\n",
       " ('2016-05-27', '21:39:00', 'F9 FT B1023.1', 'CCAFS LC-40', 'Thaicom 8', 3100, 'GTO', 'Thaicom', 'Success', 'Success (drone ship)'),\n",
       " ('2016-05-06', '5:21:00', 'F9 FT B1022', 'CCAFS LC-40', 'JCSAT-14', 4696, 'GTO', 'SKY Perfect JSAT Group', 'Success', 'Success (drone ship)'),\n",
       " ('2016-04-08', '20:43:00', 'F9 FT B1021.1', 'CCAFS LC-40', 'SpaceX CRS-8', 3136, 'LEO (ISS)', 'NASA (CRS)', 'Success', 'Success (drone ship)'),\n",
       " ('2015-12-22', '1:29:00', 'F9 FT B1019', 'CCAFS LC-40', 'OG2 Mission 2  11 Orbcomm-OG2 satellites', 2034, 'LEO', 'Orbcomm', 'Success', 'Success (ground pad)')]"
      ]
     },
     "execution_count": 108,
     "metadata": {},
     "output_type": "execute_result"
    }
   ],
   "source": [
    "%%sql SELECT * \n",
    "FROM SPACEXTBL \n",
    "WHERE Landing_Outcome LIKE 'Success%' AND (Date BETWEEN '2010-06-05' AND '2017-03-20') ORDER BY Date DESC;\n"
   ]
  },
  {
   "cell_type": "markdown",
   "metadata": {},
   "source": [
    "### Reference Links\n",
    "\n",
    "* <a href =\"https://cf-courses-data.s3.us.cloud-object-storage.appdomain.cloud/IBMDeveloperSkillsNetwork-DB0201EN-SkillsNetwork/labs/Labs_Coursera_V5/labs/Lab%20-%20String%20Patterns%20-%20Sorting%20-%20Grouping/instructional-labs.md.html?origin=www.coursera.org\">Hands-on Lab : String Patterns, Sorting and Grouping</a>  \n",
    "\n",
    "*  <a  href=\"https://cf-courses-data.s3.us.cloud-object-storage.appdomain.cloud/IBMDeveloperSkillsNetwork-DB0201EN-SkillsNetwork/labs/Labs_Coursera_V5/labs/Lab%20-%20Built-in%20functions%20/Hands-on_Lab__Built-in_Functions.md.html?origin=www.coursera.org\">Hands-on Lab: Built-in functions</a>\n",
    "\n",
    "*  <a  href=\"https://cf-courses-data.s3.us.cloud-object-storage.appdomain.cloud/IBMDeveloperSkillsNetwork-DB0201EN-SkillsNetwork/labs/Labs_Coursera_V5/labs/Lab%20-%20Sub-queries%20and%20Nested%20SELECTs%20/instructional-labs.md.html?origin=www.coursera.org\">Hands-on Lab : Sub-queries and Nested SELECT Statements</a>\n",
    "\n",
    "*   <a href=\"https://cf-courses-data.s3.us.cloud-object-storage.appdomain.cloud/IBMDeveloperSkillsNetwork-DB0201EN-SkillsNetwork/labs/Module%205/DB0201EN-Week3-1-3-SQLmagic.ipynb\">Hands-on Tutorial: Accessing Databases with SQL magic</a>\n",
    "\n",
    "*  <a href= \"https://cf-courses-data.s3.us.cloud-object-storage.appdomain.cloud/IBMDeveloperSkillsNetwork-DB0201EN-SkillsNetwork/labs/Module%205/DB0201EN-Week3-1-4-Analyzing.ipynb\">Hands-on Lab: Analyzing a real World Data Set</a>\n",
    "\n",
    "\n"
   ]
  },
  {
   "cell_type": "markdown",
   "metadata": {},
   "source": [
    "## Author(s)\n",
    "\n",
    "<h4> Lakshmi Holla </h4>\n"
   ]
  },
  {
   "cell_type": "markdown",
   "metadata": {},
   "source": [
    "## Other Contributors\n",
    "\n",
    "<h4> Rav Ahuja </h4>\n"
   ]
  },
  {
   "cell_type": "markdown",
   "metadata": {},
   "source": [
    "## Change log\n",
    "| Date | Version | Changed by | Change Description |\n",
    "|------|--------|--------|---------|\n",
    "| 2021-07-09 | 0.2 |Lakshmi Holla | Changes made in magic sql|\n",
    "| 2021-05-20 | 0.1 |Lakshmi Holla | Created Initial Version |\n"
   ]
  },
  {
   "cell_type": "markdown",
   "metadata": {},
   "source": [
    "## <h3 align=\"center\"> © IBM Corporation 2021. All rights reserved. <h3/>\n"
   ]
  }
 ],
 "metadata": {
  "kernelspec": {
   "display_name": "Python 3",
   "language": "python",
   "name": "python3"
  },
  "language_info": {
   "codemirror_mode": {
    "name": "ipython",
    "version": 3
   },
   "file_extension": ".py",
   "mimetype": "text/x-python",
   "name": "python",
   "nbconvert_exporter": "python",
   "pygments_lexer": "ipython3",
   "version": "3.12.2"
  }
 },
 "nbformat": 4,
 "nbformat_minor": 4
}
